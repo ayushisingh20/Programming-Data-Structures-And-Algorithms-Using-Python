{
  "nbformat": 4,
  "nbformat_minor": 0,
  "metadata": {
    "colab": {
      "provenance": []
    },
    "kernelspec": {
      "name": "python3",
      "display_name": "Python 3"
    },
    "language_info": {
      "name": "python"
    }
  },
  "cells": [
    {
      "cell_type": "markdown",
      "source": [
        "LECTURE-1"
      ],
      "metadata": {
        "id": "emaWqy0CmCc8"
      }
    },
    {
      "cell_type": "markdown",
      "source": [
        "# **ASSIGNMENT** ( name = expression )"
      ],
      "metadata": {
        "id": "A0Oz1EZKJbF4"
      }
    },
    {
      "cell_type": "code",
      "execution_count": 6,
      "metadata": {
        "colab": {
          "base_uri": "https://localhost:8080/"
        },
        "id": "givhZWWQInFr",
        "outputId": "73f190dd-e1fc-4671-f20c-e2cad221dd2d"
      },
      "outputs": [
        {
          "output_type": "stream",
          "name": "stdout",
          "text": [
            "5\n",
            "8\n",
            "13\n"
          ]
        },
        {
          "output_type": "execute_result",
          "data": {
            "text/plain": [
              "int"
            ]
          },
          "metadata": {},
          "execution_count": 6
        }
      ],
      "source": [
        "i =5\n",
        "print(i)\n",
        "\n",
        "j = 3+i\n",
        "print(j)\n",
        "\n",
        "j = j+5\n",
        "print(j)\n",
        "\n",
        "# NOTE- operations in expressions depnd on TYPE of the value (type(e)---> returns the type of expression)\n",
        "# NOTE- we dont declare the names of expressions with types; a name can be assigned values of diffrent types\n",
        "\n",
        "type(j)\n"
      ]
    },
    {
      "cell_type": "markdown",
      "source": [
        "# **NUMERIC VALUE** (int and float)\n"
      ],
      "metadata": {
        "id": "LDrnG4ytJjdB"
      }
    },
    {
      "cell_type": "code",
      "source": [
        "# int(no decimal part; can be negative) VS float (2.3456)\n",
        "# HOW ARE OINT AND FLOAT SAVED IN PYTHON ?\n",
        "\n",
        "# ARITHMETIC OPERATIONS[+,-,*,/]\n",
        "# NOTE THAT / ALWAYS PRODUCES A FLOAT - j = 5/6; j is float now !!\n",
        "\n",
        "# Quotient and remainder : // and %\n",
        "\n",
        "# exponential : **\n",
        "\n",
        "# other operations : log(), sqrt(),sin()....    NOTE- built in to python but not available by default\n",
        "# to use the above : from math import *\n",
        "\n"
      ],
      "metadata": {
        "id": "H3hTdjbVJYhI"
      },
      "execution_count": 5,
      "outputs": []
    },
    {
      "cell_type": "markdown",
      "source": [
        "# **BOOLEAN VALUE** (True/False)"
      ],
      "metadata": {
        "id": "MhxnxJVmiTEd"
      }
    },
    {
      "cell_type": "code",
      "source": [
        "# logical opertions - NOT(not True is False), AND(X AND Y), OR(X OR Y)"
      ],
      "metadata": {
        "id": "uCeZrQ9IODto"
      },
      "execution_count": 2,
      "outputs": []
    },
    {
      "cell_type": "code",
      "source": [
        "# We generate boolean values through COMPARISON\n",
        "\n",
        "x = 6\n",
        "y = 7\n",
        "\n",
        "print(x==y)\n",
        "print(x>10)\n",
        "print(x<10)\n",
        "print(x!=y)\n",
        "\n",
        "# we can also combine comparions using (AND,OR,NOT)Logical operation\n",
        "\n",
        "print(x>19 and x!=y)\n",
        "\n",
        "# Assign a boolean expression to a name\n",
        "\n",
        "answer = (x==10)\n",
        "print(\"answer = \",answer)"
      ],
      "metadata": {
        "colab": {
          "base_uri": "https://localhost:8080/"
        },
        "id": "wi05xH6WiuoF",
        "outputId": "cc5dcf15-731d-43ac-b7ee-1e9b03067dbc"
      },
      "execution_count": 7,
      "outputs": [
        {
          "output_type": "stream",
          "name": "stdout",
          "text": [
            "False\n",
            "False\n",
            "True\n",
            "True\n",
            "False\n",
            "answer =  False\n"
          ]
        }
      ]
    },
    {
      "cell_type": "code",
      "source": [
        "# example-1\n",
        "\n",
        "def divison(m,n):\n",
        "  if (m%n ==0):\n",
        "    return(True)\n",
        "  else :\n",
        "    return(False)\n",
        "\n",
        "\n",
        "divison(10,2)"
      ],
      "metadata": {
        "colab": {
          "base_uri": "https://localhost:8080/"
        },
        "id": "6L3uqBzEjO30",
        "outputId": "c331ff38-cfd3-4ce7-d061-ca32098384b5"
      },
      "execution_count": 9,
      "outputs": [
        {
          "output_type": "execute_result",
          "data": {
            "text/plain": [
              "True"
            ]
          },
          "metadata": {},
          "execution_count": 9
        }
      ]
    },
    {
      "cell_type": "code",
      "source": [
        "# example-2\n",
        "\n",
        "def even(m):\n",
        "  if (m%2 ==0):\n",
        "    print(\"Number is even\")\n",
        "  else:\n",
        "    print(\"Number is not even\")\n",
        "\n",
        "even(233)"
      ],
      "metadata": {
        "colab": {
          "base_uri": "https://localhost:8080/"
        },
        "id": "SeYhjcwckcm7",
        "outputId": "5e42fcc0-6f2f-430c-c0d2-5f9f22d51943"
      },
      "execution_count": 12,
      "outputs": [
        {
          "output_type": "stream",
          "name": "stdout",
          "text": [
            "Number is not even\n"
          ]
        }
      ]
    },
    {
      "cell_type": "code",
      "source": [
        "# example-3 (making use of example-1 )\n",
        "def odd(m):\n",
        "  return(not divison(m,2))\n",
        "\n",
        "odd(233)"
      ],
      "metadata": {
        "colab": {
          "base_uri": "https://localhost:8080/"
        },
        "id": "80BaBJuGlFm1",
        "outputId": "4b726573-0c06-4868-c70b-f04a6156608a"
      },
      "execution_count": 15,
      "outputs": [
        {
          "output_type": "execute_result",
          "data": {
            "text/plain": [
              "True"
            ]
          },
          "metadata": {},
          "execution_count": 15
        }
      ]
    },
    {
      "cell_type": "markdown",
      "source": [
        "LECTURE-2"
      ],
      "metadata": {
        "id": "ktRY23c9l4_t"
      }
    },
    {
      "cell_type": "markdown",
      "source": [
        "# **STRINGS**"
      ],
      "metadata": {
        "id": "ztQbcFkwmSIU"
      }
    },
    {
      "cell_type": "code",
      "source": [
        "# MANIPULATING TEXT ---> text processing (documentr preparation, importing/exporting spreadsheet data, Matching search queries to content)"
      ],
      "metadata": {
        "id": "7PIB69s2lihm"
      },
      "execution_count": 1,
      "outputs": []
    },
    {
      "cell_type": "code",
      "source": [
        "# STRING - string is a seqience of characters\n",
        "\n",
        "# NOTE- in python we dont have a diffrent data type of character(char) which are single characters\n",
        "# NOTE- in python single character is a String of length 1\n",
        "\n",
        "# NOTE- we can use all ('ayushi'), (\"ayushi\"), )('''ayushi''')\n",
        "# \" \\' \" --> this is used to use a single quote in a sentense and not take it as the end of the string e.g ayushi's"
      ],
      "metadata": {
        "id": "hc5nYrgdBOM4"
      },
      "execution_count": 2,
      "outputs": []
    },
    {
      "cell_type": "code",
      "source": [
        "# using ()\",') in between string\n",
        "\n",
        "print('ayushi\\'s')\n",
        "print(\"ayushi's\")\n",
        "print('''ayushi is a \"GOOD\" girl. she's the best''')\n",
        "print('''ayushi is a \"GOOD\" girl.\n",
        "she's the\n",
        "best''')"
      ],
      "metadata": {
        "colab": {
          "base_uri": "https://localhost:8080/"
        },
        "id": "fOD7MjjWCiZT",
        "outputId": "7c208852-08e2-4830-c521-74a58dd06ce1"
      },
      "execution_count": 6,
      "outputs": [
        {
          "output_type": "stream",
          "name": "stdout",
          "text": [
            "ayushi's\n",
            "ayushi's\n",
            "ayushi is a \"GOOD\" girl. she's the best\n",
            "ayushi is a \"GOOD\" girl. \n",
            "she's the \n",
            "best\n"
          ]
        }
      ]
    },
    {
      "cell_type": "markdown",
      "source": [
        "# **STRINGS AS SEQUENCES**"
      ],
      "metadata": {
        "id": "x0i6BQ62EJ8c"
      }
    },
    {
      "cell_type": "code",
      "source": [
        "# STRINGS AS SEQUENCES - indexing in python starts from 0 ; -1 index menas last element"
      ],
      "metadata": {
        "id": "O-oiOBMoEBwX"
      },
      "execution_count": 7,
      "outputs": []
    },
    {
      "cell_type": "code",
      "source": [
        "# extracting charaters of string from specific indexes\n",
        "string = \"what a day\"\n",
        "print(string[5])\n",
        "print(\"last element of string is\", string[-1])\n",
        "print(\"first element of string is\", string[0])"
      ],
      "metadata": {
        "colab": {
          "base_uri": "https://localhost:8080/"
        },
        "id": "MofGtAALEuBW",
        "outputId": "6ff8b794-c470-4dd7-b214-2ea5e7674327"
      },
      "execution_count": 11,
      "outputs": [
        {
          "output_type": "stream",
          "name": "stdout",
          "text": [
            "a\n",
            "last element of string is y\n",
            "first element of string is w\n"
          ]
        }
      ]
    },
    {
      "cell_type": "markdown",
      "source": [
        "# **OPERATIONS ON STRING**"
      ],
      "metadata": {
        "id": "Er7Vt5gtFWre"
      }
    },
    {
      "cell_type": "code",
      "source": [
        "# Combine 2 string : CONCATINATE (+)\n",
        "\n",
        "S = \"HELLO\"\n",
        "D = \" AYUSHI\"\n",
        "print(S+D)\n",
        "\n",
        "# FIND THE LENGTH OF A STRING\n",
        "\n",
        "print(len(S))\n",
        "print(len(D))"
      ],
      "metadata": {
        "colab": {
          "base_uri": "https://localhost:8080/"
        },
        "id": "ERVNmDDcFWI6",
        "outputId": "c76c19c4-5280-4b17-d4dc-a1ea3a1a5d11"
      },
      "execution_count": 17,
      "outputs": [
        {
          "output_type": "stream",
          "name": "stdout",
          "text": [
            "HELLO AYUSHI\n",
            "5\n",
            "7\n"
          ]
        }
      ]
    },
    {
      "cell_type": "markdown",
      "source": [
        "# **EXTRACTING SUBSTRINGS**"
      ],
      "metadata": {
        "id": "9iZBaBRAGVqJ"
      }
    },
    {
      "cell_type": "code",
      "source": [
        "# A SLICE IS A SEGEMNT OF A STRING\n",
        "\n",
        "\n",
        "name = \"Ayushi Singh\"\n",
        "print(name[0:4]) # [starting:end] ----> where \"starting\" is included but \"end\" is not included\n",
        "print(name[:4]) # this takes default starting value as 0\n",
        "print(name[0:]) # takes till the end, including the last element, \"end\"--> length of string"
      ],
      "metadata": {
        "colab": {
          "base_uri": "https://localhost:8080/"
        },
        "id": "Rq00J5RVGT_g",
        "outputId": "beb2c307-3dfd-477b-f576-bb92ed0ccdc0"
      },
      "execution_count": 24,
      "outputs": [
        {
          "output_type": "stream",
          "name": "stdout",
          "text": [
            "Ayus\n",
            "Ayus\n",
            "Ayushi Singh\n"
          ]
        }
      ]
    },
    {
      "cell_type": "markdown",
      "source": [
        "# **MODIFYING STRINGS**"
      ],
      "metadata": {
        "id": "z0QfVjsqIUaX"
      }
    },
    {
      "cell_type": "code",
      "source": [
        "# STRINGS ARE IMMUTABLE"
      ],
      "metadata": {
        "id": "QpdnasWFRDvj"
      },
      "execution_count": null,
      "outputs": []
    },
    {
      "cell_type": "code",
      "source": [
        "# we cant really update a particular index of a string\n",
        "# e.g s[3] = \"p\" ---> ERROR!\n",
        "\n",
        "# INSTEAD WE SLICE AND CONCATINATE - build a new string from theold string\n",
        "\n",
        "s= \"hello\"\n",
        "s=s[0:3]+\"p!\"\n",
        "print(s)\n"
      ],
      "metadata": {
        "colab": {
          "base_uri": "https://localhost:8080/"
        },
        "id": "4wgbhFHUIf0q",
        "outputId": "2e57b10b-be24-4355-9318-2107e370926d"
      },
      "execution_count": 26,
      "outputs": [
        {
          "output_type": "stream",
          "name": "stdout",
          "text": [
            "help!\n"
          ]
        }
      ]
    },
    {
      "cell_type": "markdown",
      "source": [
        "LECTURE - 3"
      ],
      "metadata": {
        "id": "eTw1M9_vRcjD"
      }
    },
    {
      "cell_type": "markdown",
      "source": [
        "# **LIST**"
      ],
      "metadata": {
        "id": "ZsxESiFkRetD"
      }
    },
    {
      "cell_type": "code",
      "source": [
        "# list can contain values of DIFFRENT DATA TYPES\n",
        "# list is also a sequence of values, just like a string --> we can extract values at given positions; We can also slice the list."
      ],
      "metadata": {
        "id": "amQQboHRIxQl"
      },
      "execution_count": 27,
      "outputs": []
    },
    {
      "cell_type": "code",
      "source": [
        "# list VS string\n",
        "\n",
        "h = \"hello\"\n",
        "print(h[0])\n",
        "print(h[0:1])\n",
        "\n",
        "list=[1,2,3,4]\n",
        "print(list[0])\n",
        "print(list[0:1])\n",
        "\n",
        "# we notice that upon slicing in list, we get a list in return not a character, unlike in strings.\n",
        "# list can also be updated in place but not in string"
      ],
      "metadata": {
        "colab": {
          "base_uri": "https://localhost:8080/"
        },
        "id": "z9Pji0GwSxke",
        "outputId": "9466bed3-b42c-4e42-d0d1-3615b9c56455"
      },
      "execution_count": 31,
      "outputs": [
        {
          "output_type": "stream",
          "name": "stdout",
          "text": [
            "h\n",
            "h\n",
            "1\n",
            "[1]\n"
          ]
        }
      ]
    },
    {
      "cell_type": "markdown",
      "source": [
        "# **NESTED LIST**"
      ],
      "metadata": {
        "id": "eX6VMtaBT6Yl"
      }
    },
    {
      "cell_type": "code",
      "source": [
        "nested_list= [[1,2,3],[4,5,6],[7,8,9],10]\n",
        "# 3 list in nested_list\n",
        "print(nested_list[0])\n",
        "print(nested_list[1][2]) # second index of list present at index 1 of nested_list\n",
        "\n",
        "# slicing in nested list\n",
        "print(nested_list[2][0:2])"
      ],
      "metadata": {
        "colab": {
          "base_uri": "https://localhost:8080/"
        },
        "id": "hkGYhu8gTzWK",
        "outputId": "f6120b29-5a0a-4933-fd7b-b93db2bf899c"
      },
      "execution_count": 35,
      "outputs": [
        {
          "output_type": "stream",
          "name": "stdout",
          "text": [
            "[1, 2, 3]\n",
            "6\n",
            "[7, 8]\n"
          ]
        }
      ]
    },
    {
      "cell_type": "markdown",
      "source": [
        "# **UPDATING LIST**"
      ],
      "metadata": {
        "id": "7qD5FsutVeSQ"
      }
    },
    {
      "cell_type": "code",
      "source": [
        "# list can also be updated in place but not in string\n",
        "\n",
        "LIST=[1,2,3,4,5,6]\n",
        "LIST[2]=99\n",
        "print(LIST)"
      ],
      "metadata": {
        "colab": {
          "base_uri": "https://localhost:8080/"
        },
        "id": "ANH8vC9gUTki",
        "outputId": "5dc3be78-cd0c-43c7-bf0d-d8f9d03a99a9"
      },
      "execution_count": 37,
      "outputs": [
        {
          "output_type": "stream",
          "name": "stdout",
          "text": [
            "[1, 2, 99, 4, 5, 6]\n"
          ]
        }
      ]
    },
    {
      "cell_type": "code",
      "source": [
        "# Mutable vs Immutable\n",
        "j=6\n",
        "l=8\n",
        "j=l\n",
        "print(j)\n",
        "\n",
        "r=5\n",
        "y=r\n",
        "r=8\n",
        "print(y) # r doesnt get updated with new value of y since y was just a copy of previous r\n",
        "# this is IMMUTABLE NATURE\n",
        "\n",
        "# MUTABLE NATURE OF LIST\n",
        "LIST1=[1,2,3,4,5]\n",
        "LIST2=LIST1\n",
        "print(LIST2)\n",
        "LIST1[2]=88\n",
        "print(LIST2) # thus LIST2 automatically changes\n"
      ],
      "metadata": {
        "colab": {
          "base_uri": "https://localhost:8080/"
        },
        "id": "vIyZwgVAWnba",
        "outputId": "f449cd0b-0832-4702-875e-7f620f1b3f83"
      },
      "execution_count": 46,
      "outputs": [
        {
          "output_type": "stream",
          "name": "stdout",
          "text": [
            "8\n",
            "5\n",
            "[1, 2, 3, 4, 5]\n",
            "[1, 2, 88, 4, 5]\n"
          ]
        }
      ]
    },
    {
      "cell_type": "markdown",
      "source": [
        "# **COPYING LIST**\n"
      ],
      "metadata": {
        "id": "ifojhrNQdROb"
      }
    },
    {
      "cell_type": "code",
      "source": [
        "# we actually saw that above list was getting automatically updated, so how to make copies of the list tat doesnt get updated \\\n",
        "\n",
        "# A SLICE CREATES A NEW SUB-LIST FROM THE OLD ONE\n",
        "\n",
        "LIST3=[1,2,3,4,5,6]\n",
        "COPY_LIST3=LIST3[:] # full-slice\n",
        "print(COPY_LIST3)"
      ],
      "metadata": {
        "colab": {
          "base_uri": "https://localhost:8080/"
        },
        "id": "ctE4E6PbbetW",
        "outputId": "a57c9f5a-0bfb-4651-93b1-91abda4c4c05"
      },
      "execution_count": 48,
      "outputs": [
        {
          "output_type": "stream",
          "name": "stdout",
          "text": [
            "[1, 2, 3, 4, 5, 6]\n"
          ]
        }
      ]
    },
    {
      "cell_type": "markdown",
      "source": [
        "# **DIGRESSION ON EQUALITY**"
      ],
      "metadata": {
        "id": "x3k8BfnRe-zY"
      }
    },
    {
      "cell_type": "code",
      "source": [
        "l1=[1,2,3]\n",
        "l2=[1,2,3]\n",
        "l3=l2\n",
        "\n",
        "print(l1)\n",
        "print(l2)\n",
        "print(l3)\n",
        "\n",
        "# note here l1 and l2 are 2 diffrent list with same values, but l2 and l3 refer to the same list, manipulating one might change other\n",
        "# manipulating l1 will affect affect on none of l2 and l3\n",
        "\n",
        "print(l1==l2)\n",
        "print(l2==l3) # checks if l1 and l2 have same value but we know that l1 is differnt than l2 and l3\n",
        "\n",
        "\n",
        "# to check if both a x and y refer to the same object or  not (like in case of l2 and l3, updating one, updates the other)\n",
        "print(l2 is l1) #---> FALSE\n",
        "print(l2 is l3)"
      ],
      "metadata": {
        "colab": {
          "base_uri": "https://localhost:8080/"
        },
        "id": "cGN37O1edh_S",
        "outputId": "5f409859-63af-4d74-a6bf-9ffbe3c46452"
      },
      "execution_count": 54,
      "outputs": [
        {
          "output_type": "stream",
          "name": "stdout",
          "text": [
            "[1, 2, 3]\n",
            "[1, 2, 3]\n",
            "[1, 2, 3]\n",
            "True\n",
            "True\n",
            "False\n",
            "True\n"
          ]
        }
      ]
    },
    {
      "cell_type": "markdown",
      "source": [
        "# **CONCATENATION OF LIST**"
      ],
      "metadata": {
        "id": "gdqqjaK7glMO"
      }
    },
    {
      "cell_type": "code",
      "source": [
        "L3=[1,2,3]\n",
        "L4=[4,5,6]\n",
        "L5=L3+L4\n",
        "print(L5)\n",
        "\n",
        "L7=L5\n",
        "L5=L5+[2] # + always produces a new list\n",
        "print(\"L7 is : \",L7)\n",
        "print(\"L5 is : \",L5)"
      ],
      "metadata": {
        "colab": {
          "base_uri": "https://localhost:8080/"
        },
        "id": "6tdFMmUFgEbB",
        "outputId": "b7e3d354-e3bf-4a8e-825f-7a4845147568"
      },
      "execution_count": 57,
      "outputs": [
        {
          "output_type": "stream",
          "name": "stdout",
          "text": [
            "[1, 2, 3, 4, 5, 6]\n",
            "L7 is :  [1, 2, 3, 4, 5, 6]\n",
            "L5 is :  [1, 2, 3, 4, 5, 6, 2]\n"
          ]
        }
      ]
    },
    {
      "cell_type": "markdown",
      "source": [
        "LECTURE - 4"
      ],
      "metadata": {
        "id": "_UvqauBqhrJA"
      }
    },
    {
      "cell_type": "markdown",
      "source": [
        "# **CONTROL FLOW**"
      ],
      "metadata": {
        "id": "Brbjr-Sxhtr_"
      }
    },
    {
      "cell_type": "code",
      "source": [
        "# CONTROL FLOW - detemines the order in which statements are executed\n",
        "# Three main types --> CONDITIONAL EXECUTION(if,elif,else), REPEATED EXECUTION(for and while loops),FUNCTION DEFINATION"
      ],
      "metadata": {
        "id": "GSZjaTIzhp5J"
      },
      "execution_count": 59,
      "outputs": []
    },
    {
      "cell_type": "markdown",
      "source": [
        "# **CONDITINAL EXECUTION**"
      ],
      "metadata": {
        "id": "OJI-OiFGj3Tj"
      }
    },
    {
      "cell_type": "code",
      "source": [
        "# Example\n",
        "\n",
        "x=90\n",
        "if x<30:\n",
        "  print(\"smaller than 30\")\n",
        "else:\n",
        "  print(\"larger than 30\")\n",
        "\n",
        "# ELSE IS OPTIONAL\n",
        "# if,elif,eilf...,else\n"
      ],
      "metadata": {
        "colab": {
          "base_uri": "https://localhost:8080/"
        },
        "id": "64cdUwvGiYNv",
        "outputId": "12cd1945-d9c8-4503-ebd6-853dfb33c59c"
      },
      "execution_count": 65,
      "outputs": [
        {
          "output_type": "stream",
          "name": "stdout",
          "text": [
            "larger than 30\n"
          ]
        }
      ]
    },
    {
      "cell_type": "markdown",
      "source": [
        "# **LOOPS**"
      ],
      "metadata": {
        "id": "yBpb3mcm5sy3"
      }
    },
    {
      "cell_type": "code",
      "source": [
        "# LOOPS - repeat something n number of times\n",
        "l=[1,2,3,4,5,6,7,8,9]\n",
        "\n",
        "for i in range(1,5):\n",
        "  print(i)\n",
        "\n",
        "# range(start,end)---> doesnt include end, goes till end-1\n",
        "\n",
        "\n",
        "# example - To find factors of a number\n",
        "def factors(n):\n",
        "  factor=[]\n",
        "  for i in range (1,n+1):\n",
        "    if n%i==0:\n",
        "      factor.append(i)\n",
        "      i=i+1\n",
        "  print(factor)\n",
        "\n",
        "factors(10)"
      ],
      "metadata": {
        "colab": {
          "base_uri": "https://localhost:8080/"
        },
        "id": "B6Sdj8z_kN1U",
        "outputId": "44d9c64d-3d52-4527-f02b-edfbcea092a7"
      },
      "execution_count": 79,
      "outputs": [
        {
          "output_type": "stream",
          "name": "stdout",
          "text": [
            "1\n",
            "2\n",
            "3\n",
            "4\n",
            "[1, 2, 5, 10]\n"
          ]
        }
      ]
    },
    {
      "cell_type": "markdown",
      "source": [
        "# **WHILE LOOP**"
      ],
      "metadata": {
        "id": "39Lbgqiu8plh"
      }
    },
    {
      "cell_type": "code",
      "source": [
        "i=2\n",
        "while i<10:\n",
        "  print(i)\n",
        "  i=i+1"
      ],
      "metadata": {
        "colab": {
          "base_uri": "https://localhost:8080/"
        },
        "id": "v9-7LeGI57oo",
        "outputId": "f1874728-f1dc-421b-cb2e-8785dbdca7a2"
      },
      "execution_count": 83,
      "outputs": [
        {
          "output_type": "stream",
          "name": "stdout",
          "text": [
            "2\n",
            "3\n",
            "4\n",
            "5\n",
            "6\n",
            "7\n",
            "8\n",
            "9\n"
          ]
        }
      ]
    },
    {
      "cell_type": "markdown",
      "source": [
        "LECTURE-5"
      ],
      "metadata": {
        "id": "73J5vhdM9miC"
      }
    },
    {
      "cell_type": "markdown",
      "source": [
        "# **FUNCTIONS**"
      ],
      "metadata": {
        "id": "71tHzBlM9qs6"
      }
    },
    {
      "cell_type": "code",
      "source": [
        "# reuseable block of code"
      ],
      "metadata": {
        "id": "lzVUcjdC9lt5"
      },
      "execution_count": 84,
      "outputs": []
    },
    {
      "cell_type": "code",
      "source": [
        "# example\n",
        "def power(x,n):\n",
        "  ans=1\n",
        "  for i in range(0,n):\n",
        "    ans=ans*x\n",
        "  return(ans)\n",
        "\n",
        "print(power(2,2))\n",
        "print(power(2,3))\n",
        "print(power(2,4))"
      ],
      "metadata": {
        "colab": {
          "base_uri": "https://localhost:8080/"
        },
        "id": "6aG0thnB-Me-",
        "outputId": "70c2d859-20ee-46d6-999c-4cd8fdb6fc49"
      },
      "execution_count": 90,
      "outputs": [
        {
          "output_type": "stream",
          "name": "stdout",
          "text": [
            "4\n",
            "8\n",
            "16\n"
          ]
        }
      ]
    },
    {
      "cell_type": "code",
      "source": [
        "# example\n",
        "def update(l,i,v):\n",
        "  if i<len(l):\n",
        "    l[i]=v\n",
        "    print(l)\n",
        "    return(True)\n",
        "  else:\n",
        "    print(\"value doesnt lie in range\")\n",
        "\n",
        "l=[1,2,3,4,5,6,7,8]\n",
        "print(update(l,2,77))\n",
        "print(\"when value is out of range: \",update(l,44,88))"
      ],
      "metadata": {
        "colab": {
          "base_uri": "https://localhost:8080/"
        },
        "id": "33WHqtvh_tJF",
        "outputId": "878ea53e-b1fb-4402-c9c0-bd9e06e1a927"
      },
      "execution_count": 98,
      "outputs": [
        {
          "output_type": "stream",
          "name": "stdout",
          "text": [
            "[1, 2, 77, 4, 5, 6, 7, 8]\n",
            "True\n",
            "value doesnt lie in range\n",
            "when value is out of range:  None\n"
          ]
        }
      ]
    },
    {
      "cell_type": "code",
      "source": [
        "# WHAT IS THE USE OF RETURN STATEMENT IN PYTHON ?\n",
        "\n",
        "'''\n",
        "\n",
        "The return statement in Python is used to:\n",
        "\n",
        "1.Exit a function.\n",
        "2.Provide a value back to the caller of the function.\n",
        "3.You can return any type of value from a function.\n",
        "4.If no value is specified, it returns None by default.\n",
        "\n",
        "'''"
      ],
      "metadata": {
        "colab": {
          "base_uri": "https://localhost:8080/",
          "height": 53
        },
        "id": "HO64ycPlBcgN",
        "outputId": "6f94416d-94db-48f2-b9bd-a53e76365c4e"
      },
      "execution_count": 102,
      "outputs": [
        {
          "output_type": "execute_result",
          "data": {
            "text/plain": [
              "'\\n\\nThe return statement in Python is used to:\\n\\n1.Exit a function.\\n2.Provide a value back to the caller of the function.\\n3.You can return any type of value from a function.\\n4.If no value is specified, it returns None by default.\\n\\n'"
            ],
            "application/vnd.google.colaboratory.intrinsic+json": {
              "type": "string"
            }
          },
          "metadata": {},
          "execution_count": 102
        }
      ]
    },
    {
      "cell_type": "markdown",
      "source": [
        "# **SCOPE OF NAMES**"
      ],
      "metadata": {
        "id": "psHf_d-NCt6n"
      }
    },
    {
      "cell_type": "code",
      "source": [
        "# name within a function have local scope\n",
        "x=8\n",
        "\n",
        "def fun(n):\n",
        "  x=19\n",
        "  print(\"value of x inside the function is :\",x)\n",
        "  return(n)\n",
        "\n",
        "fun(22)\n",
        "print(\"value of x outside the function is :\",x)"
      ],
      "metadata": {
        "colab": {
          "base_uri": "https://localhost:8080/"
        },
        "id": "QNfF-CCoB_GK",
        "outputId": "0f19d093-d01a-465a-e997-62382fd6be7f"
      },
      "execution_count": 105,
      "outputs": [
        {
          "output_type": "stream",
          "name": "stdout",
          "text": [
            "value of x inside the function is : 19\n",
            "value of x outside the function is : 8\n"
          ]
        }
      ]
    },
    {
      "cell_type": "markdown",
      "source": [
        "# **DEFINING FUNCTIONS**"
      ],
      "metadata": {
        "id": "LQmoRr8hDoho"
      }
    },
    {
      "cell_type": "code",
      "source": [
        "def f(x):\n",
        "  return god(x+1) #---> tdoing this is fine\n",
        "\n",
        "#z=f(77)\n",
        "#print(z). ---> this will give error\n",
        "\n",
        "def god(y):\n",
        "  return (y+3)\n",
        "\n",
        "z=f(77)\n",
        "print(z)\n"
      ],
      "metadata": {
        "colab": {
          "base_uri": "https://localhost:8080/"
        },
        "id": "wyDrJquSDS5W",
        "outputId": "cfeab8ef-94eb-4d8e-f9b8-d9bb994c9ad2"
      },
      "execution_count": 119,
      "outputs": [
        {
          "output_type": "stream",
          "name": "stdout",
          "text": [
            "81\n"
          ]
        }
      ]
    },
    {
      "cell_type": "markdown",
      "source": [
        "# **RECURSIVE FUNCTIONS**"
      ],
      "metadata": {
        "id": "fuce7sqUEjOG"
      }
    },
    {
      "cell_type": "code",
      "source": [
        "# a function ca call itself"
      ],
      "metadata": {
        "id": "lpiyD5CVEH5p"
      },
      "execution_count": 120,
      "outputs": []
    }
  ]
}