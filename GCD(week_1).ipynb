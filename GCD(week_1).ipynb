{
  "nbformat": 4,
  "nbformat_minor": 0,
  "metadata": {
    "colab": {
      "provenance": []
    },
    "kernelspec": {
      "name": "python3",
      "display_name": "Python 3"
    },
    "language_info": {
      "name": "python"
    }
  },
  "cells": [
    {
      "cell_type": "markdown",
      "source": [
        "# WEEK 1(LECTURE1)- ALGORITHEMS AND PROGRAMMING : SIMPLE GCD"
      ],
      "metadata": {
        "id": "E0uGgUTFiA_E"
      }
    },
    {
      "cell_type": "code",
      "source": [
        "# WHAT IS GCD ?\n",
        "# The greatest common divisor (GCD) of two numbers is the largest number that can divide both of them without leaving a remainder."
      ],
      "metadata": {
        "id": "d0I2ifI-iMPE"
      },
      "execution_count": 2,
      "outputs": []
    },
    {
      "cell_type": "code",
      "source": [
        "from pickle import TRUE\n",
        "#gcd(m,n)\n",
        "\n",
        "def gcd(m,n):\n",
        "  fm=[]\n",
        "  for i in range(1,m+1): # m+1 to include m\n",
        "    if m%i==0:\n",
        "      fm.append(i)\n",
        "  print(\"fm :\",fm)\n",
        "\n",
        "  fn=[]\n",
        "  for y in range(1,n+1): # n+1 to include n\n",
        "    if n%y==0:\n",
        "      fn.append(y)\n",
        "  print(\"fn :\",fn)\n",
        "\n",
        "  cf=[]\n",
        "  for p in fm:\n",
        "    for t in fn:\n",
        "      if p==t:\n",
        "        cf.append(p)\n",
        "  print(\"cf :\",cf)\n",
        "\n",
        "  cf.sort(reverse=True)\n",
        "  print(\"decending_order cf : \", cf)\n",
        "\n",
        "  print(\"gcd(m,n): \",cf[0])\n"
      ],
      "metadata": {
        "id": "--FPowO8WK8m"
      },
      "execution_count": 3,
      "outputs": []
    },
    {
      "cell_type": "code",
      "source": [
        "gcd(8,12)"
      ],
      "metadata": {
        "colab": {
          "base_uri": "https://localhost:8080/"
        },
        "id": "bu246_p-elwO",
        "outputId": "e0dc6430-3411-4357-d329-e396dcf30f96"
      },
      "execution_count": 4,
      "outputs": [
        {
          "output_type": "stream",
          "name": "stdout",
          "text": [
            "fm : [1, 2, 4, 8]\n",
            "fn : [1, 2, 3, 4, 6, 12]\n",
            "cf : [1, 2, 4]\n",
            "decending_order cf :  [4, 2, 1]\n",
            "gcd(m,n):  4\n"
          ]
        }
      ]
    },
    {
      "cell_type": "code",
      "source": [
        "gcd(100,200)"
      ],
      "metadata": {
        "colab": {
          "base_uri": "https://localhost:8080/"
        },
        "id": "5-JtO_mAgY9w",
        "outputId": "09031ca8-134c-4432-ce96-26b4ea023d53"
      },
      "execution_count": 5,
      "outputs": [
        {
          "output_type": "stream",
          "name": "stdout",
          "text": [
            "fm : [1, 2, 4, 5, 10, 20, 25, 50, 100]\n",
            "fn : [1, 2, 4, 5, 8, 10, 20, 25, 40, 50, 100, 200]\n",
            "cf : [1, 2, 4, 5, 10, 20, 25, 50, 100]\n",
            "decending_order cf :  [100, 50, 25, 20, 10, 5, 4, 2, 1]\n",
            "gcd(m,n):  100\n"
          ]
        }
      ]
    },
    {
      "cell_type": "markdown",
      "source": [
        "#  WEEK 1(LECTURE2)- IMPROVING THE ABOVE CODE OF GCD"
      ],
      "metadata": {
        "id": "oobv15EpiIhl"
      }
    },
    {
      "cell_type": "code",
      "source": [
        "# simplify 1 : using single loop"
      ],
      "metadata": {
        "id": "7hkwJKzFjs9b"
      },
      "execution_count": 6,
      "outputs": []
    },
    {
      "cell_type": "code",
      "source": [
        "def gcd_pro(m,n):\n",
        "  cf=[]\n",
        "  for i in range (1,min(m,n)+1):\n",
        "    if m%i==0 and n%i==0:\n",
        "      cf.append(i)\n",
        "  print(\"gcd_pro(m,n): \",cf[-1])"
      ],
      "metadata": {
        "id": "363CJKYLh-GN"
      },
      "execution_count": 7,
      "outputs": []
    },
    {
      "cell_type": "code",
      "source": [
        "gcd_pro(8,12)"
      ],
      "metadata": {
        "colab": {
          "base_uri": "https://localhost:8080/"
        },
        "id": "DkBTDwtxjW4C",
        "outputId": "841cf24a-d337-4498-9482-a9846fe412e9"
      },
      "execution_count": 8,
      "outputs": [
        {
          "output_type": "stream",
          "name": "stdout",
          "text": [
            "gcd_pro(m,n):  4\n"
          ]
        }
      ]
    },
    {
      "cell_type": "code",
      "source": [
        "# simplify 2 : not using list at all"
      ],
      "metadata": {
        "id": "IZIJ90gajxyj"
      },
      "execution_count": 9,
      "outputs": []
    },
    {
      "cell_type": "code",
      "source": [
        "def gcd_pro_max(m,n):\n",
        "  for i in range (1,min(m,n)+1):\n",
        "    if m%i==0 and n%i==0:\n",
        "      ans=i\n",
        "  print(\"gcd_pro_max(m,n): \", ans)\n",
        "\n"
      ],
      "metadata": {
        "id": "IFz8mBnpj4Nw"
      },
      "execution_count": 10,
      "outputs": []
    },
    {
      "cell_type": "code",
      "source": [
        "gcd_pro_max(100,200)"
      ],
      "metadata": {
        "colab": {
          "base_uri": "https://localhost:8080/"
        },
        "id": "QfE_zqm-kIVa",
        "outputId": "9138343f-3168-47df-da64-fc711cd86881"
      },
      "execution_count": 11,
      "outputs": [
        {
          "output_type": "stream",
          "name": "stdout",
          "text": [
            "gcd_pro_max(m,n):  100\n"
          ]
        }
      ]
    },
    {
      "cell_type": "code",
      "source": [
        "# simplify 3 : start scanning backwards"
      ],
      "metadata": {
        "id": "kHSNCTRUkXZL"
      },
      "execution_count": 12,
      "outputs": []
    },
    {
      "cell_type": "code",
      "source": [
        "def gcd_pro_max1(m, n):\n",
        "    i = min(m, n)  # Default value for i\n",
        "    for i in range(i, 0, -1):  # Scanning backwards from min(m, n) to 1\n",
        "        if m % i == 0 and n % i == 0:\n",
        "            return i\n",
        "    return 1"
      ],
      "metadata": {
        "id": "vNHvSVpBlqXZ"
      },
      "execution_count": 13,
      "outputs": []
    },
    {
      "cell_type": "code",
      "source": [
        "print(gcd_pro_max1(100,200))"
      ],
      "metadata": {
        "colab": {
          "base_uri": "https://localhost:8080/"
        },
        "id": "nvzWRrcnk2LH",
        "outputId": "c86ef1b6-851a-4c38-c347-3cce99b31877"
      },
      "execution_count": 14,
      "outputs": [
        {
          "output_type": "stream",
          "name": "stdout",
          "text": [
            "100\n"
          ]
        }
      ]
    },
    {
      "cell_type": "markdown",
      "source": [
        "# WEEK 1(LECTURE3)- EUCLIDS ALGORITHEM GCD"
      ],
      "metadata": {
        "id": "SDpcOzkXN74L"
      }
    },
    {
      "cell_type": "code",
      "source": [
        "# version 1"
      ],
      "metadata": {
        "id": "fKIw5AV6Ps14"
      },
      "execution_count": null,
      "outputs": []
    },
    {
      "cell_type": "code",
      "source": [
        "def gcd_euclid(m,n):\n",
        "  if m<n:\n",
        "    (m,n)=(n,m) # values will get exachnged\n",
        "  if m%n==0:\n",
        "    print(\"gcd of (m,n) is : \",n)\n",
        "  else:\n",
        "    diff= m-n\n",
        "    # its possible that difference is greator than n\n",
        "    return(gcd_euclid(max(n,diff),min(n,diff))) # recursion"
      ],
      "metadata": {
        "id": "ErRnFkpfN7S0"
      },
      "execution_count": 18,
      "outputs": []
    },
    {
      "cell_type": "code",
      "source": [
        "gcd_euclid(48,8)\n"
      ],
      "metadata": {
        "colab": {
          "base_uri": "https://localhost:8080/"
        },
        "id": "xXriSU4uPQef",
        "outputId": "1ad740d3-39ef-4402-89bf-75c428b08287"
      },
      "execution_count": 20,
      "outputs": [
        {
          "output_type": "stream",
          "name": "stdout",
          "text": [
            "gcd of (m,n) is :  8\n"
          ]
        }
      ]
    },
    {
      "cell_type": "code",
      "source": [
        "gcd_euclid(48,18)\n"
      ],
      "metadata": {
        "colab": {
          "base_uri": "https://localhost:8080/"
        },
        "id": "p0TfHhloPZjM",
        "outputId": "29459ecd-9562-4a13-d633-bda2d876ea95"
      },
      "execution_count": 22,
      "outputs": [
        {
          "output_type": "stream",
          "name": "stdout",
          "text": [
            "gcd of (m,n) is :  6\n"
          ]
        }
      ]
    },
    {
      "cell_type": "code",
      "source": [
        "# version 2 - using while loop instead of recursion"
      ],
      "metadata": {
        "id": "RiI8jtY6PcDm"
      },
      "execution_count": 23,
      "outputs": []
    },
    {
      "cell_type": "code",
      "source": [
        "def gcd_euclid2(m,n):\n",
        "  if m<n:\n",
        "    (m,n)=(n,m) # values will get exachnged\n",
        "  while m%n!=0:\n",
        "    diff= m-n\n",
        "    (m,n)= (max(n,diff),min(n,diff))\n",
        "  print(\"gcd of (m,n) is : \",n)"
      ],
      "metadata": {
        "id": "sZBVwijfPycz"
      },
      "execution_count": 25,
      "outputs": []
    },
    {
      "cell_type": "code",
      "source": [
        "gcd_euclid2(48,18)"
      ],
      "metadata": {
        "colab": {
          "base_uri": "https://localhost:8080/"
        },
        "id": "5gkM6qhkQTEZ",
        "outputId": "4136a117-e80d-4dc7-ca0d-baad05c14d79"
      },
      "execution_count": 26,
      "outputs": [
        {
          "output_type": "stream",
          "name": "stdout",
          "text": [
            "gcd of (m,n) is :  6\n"
          ]
        }
      ]
    },
    {
      "cell_type": "code",
      "source": [
        "# version-3 - using the remainder and reducing the steps"
      ],
      "metadata": {
        "id": "5Nw6yGPzQWtV"
      },
      "execution_count": 27,
      "outputs": []
    },
    {
      "cell_type": "code",
      "source": [
        "def gcd_euclid3(m, n):\n",
        "    if m < n:\n",
        "        (m, n) = (n, m)  # Swap values if m < n\n",
        "    while m % n != 0:\n",
        "        r = m % n\n",
        "        (m, n) = (n, r)\n",
        "    print(\"gcd of (m,n) is:\", n)"
      ],
      "metadata": {
        "id": "-LDTVKPdSWXg"
      },
      "execution_count": 31,
      "outputs": []
    },
    {
      "cell_type": "code",
      "source": [
        "gcd_euclid3(48,18)"
      ],
      "metadata": {
        "colab": {
          "base_uri": "https://localhost:8080/"
        },
        "id": "PUMXCsRvS7qU",
        "outputId": "f2cf23bd-152d-4b22-93c0-3b3b52958ecb"
      },
      "execution_count": 32,
      "outputs": [
        {
          "output_type": "stream",
          "name": "stdout",
          "text": [
            "gcd of (m,n) is: 6\n"
          ]
        }
      ]
    }
  ]
}